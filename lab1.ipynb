{
 "cells": [
  {
   "cell_type": "markdown",
   "id": "1953bb88-7029-44b8-96c0-87a9ec7d3fdb",
   "metadata": {},
   "source": [
    "<h1><b>Laboratory work 1</h1>"
   ]
  },
  {
   "cell_type": "markdown",
   "id": "4032d47d-3c7b-427e-bbd0-73c34b114b0e",
   "metadata": {},
   "source": [
    "<h3><b>Topic:</b> Jupyter Notebook Basics</h3>"
   ]
  },
  {
   "cell_type": "markdown",
   "id": "fd34f148-76d8-4c44-8ba9-7cab77863830",
   "metadata": {},
   "source": [
    "<h3><b>Goal:</b> Learning the specifics of using Python language in Jupyter Notebook.\r",
    "</h3>"
   ]
  },
  {
   "cell_type": "markdown",
   "id": "61513a11-46dd-4e89-9db9-b04c6c8b3fd0",
   "metadata": {},
   "source": [
    "<h3><center><b>Progress of work</b></center></h3>"
   ]
  },
  {
   "cell_type": "markdown",
   "id": "0b9b2346-2079-4809-80c8-4675c2d30b46",
   "metadata": {},
   "source": [
    "<h4><b><u>Assignment 4</u></b></h4>"
   ]
  },
  {
   "cell_type": "markdown",
   "id": "ed7e3f5f-a9ef-4d3c-8649-58e5a44b24ef",
   "metadata": {},
   "source": [
    "<hr>"
   ]
  },
  {
   "cell_type": "markdown",
   "id": "f78f7335-e2a5-456f-b688-4e0c55c0cdee",
   "metadata": {},
   "source": [
    "<h3><center><b><i>Guyana</i></b></center></h3>"
   ]
  },
  {
   "cell_type": "markdown",
   "id": "1fd91b76-47c4-4394-aa59-ded98f1e4870",
   "metadata": {},
   "source": [
    "Guyana (officially the Co-operative Republic of Guyana), is a country on the northern coast of South America, part of the historic mainland British West Indies. Guyana is an indigenous word which means \"Land of Many Waters\". Guyana is bordered by the Atlantic Ocean to the north, Brazil to the south and southwest, Venezuela to the west, and Suriname to the east. With a land area of 214,969 km2 (83,000 sq mi), Guyana is the third-smallest sovereign state by area in mainland South America after Uruguay and Suriname, and is the second-least populous sovereign state in South America after Suriname; it is also one of the least densely populated countries on Earth. The official language of the country is English, although a large part of the population is bilingual in English and the indigenous languages. It has a wide variety of natural habitats and very high biodiversity. The country also hosts a part of the Amazon rainforest, the largest tropical rainforest in the world."
   ]
  },
  {
   "cell_type": "markdown",
   "id": "1330c981-9342-4def-b945-92795bbe596b",
   "metadata": {},
   "source": [
    "<div class=\"alert alert-block alert-info\"><b>Motto:</b> \"One People, One Nation, One Destiny\"</div>"
   ]
  },
  {
   "cell_type": "markdown",
   "id": "f634ab87-393d-4c35-9990-a781a976d04f",
   "metadata": {},
   "source": [
    "<b>Short description:</b>"
   ]
  },
  {
   "cell_type": "markdown",
   "id": "718b86ac-23ea-4026-acd0-6a4df1d18b9e",
   "metadata": {},
   "source": [
    "<i><ul>\n",
    "<li><b>Capital:</b> Georgetown</li>\n",
    "<li><b>Official language:</b> English</li>\n",
    "<li><b>Area:</b> 214 969 sq km</li>\n",
    "<li><b>Population:</b> \n",
    "<ul><li>2024 estimate - 817 607</li>\n",
    "<li>Density - 3.5/sq km</li></ul></li>\n",
    "<li><b>Currency: </b> Guyanese dollar</li>\n",
    "</ul>\n",
    "</i>"
   ]
  },
  {
   "cell_type": "markdown",
   "id": "5d8bb163-13d5-4e89-bc45-feb3f88d529e",
   "metadata": {},
   "source": [
    "<b>Largest cities</b>"
   ]
  },
  {
   "cell_type": "markdown",
   "id": "6fb6c593-7da7-469f-926f-722068e84c1c",
   "metadata": {},
   "source": [
    "|Rank|Name|Population|\n",
    "|----|----|----------|\n",
    "|1|Georgetown|118363|\n",
    "|2|Linden|27277|\n",
    "|3|New Amsterdam|17329|\n",
    "|4|Corriverton|11386|\n",
    "|5|Bartica|8004|"
   ]
  },
  {
   "cell_type": "markdown",
   "id": "a53f877b-9cd8-4c88-90b7-a3714f0b5bc7",
   "metadata": {},
   "source": [
    "<b>Some pictures of the country</b>"
   ]
  },
  {
   "cell_type": "markdown",
   "id": "c2e85819-3bd6-48f8-bda8-9b4e0c002a0a",
   "metadata": {},
   "source": [
    "<div>\n",
    "    <img src=\"20191121_Guyana_0062_Georgetown_sRGB_(49295972987).jpg\" width=500/>\n",
    "</div>"
   ]
  },
  {
   "cell_type": "markdown",
   "id": "1e92fd5c-fa71-4df5-8dfc-83cbc138bdab",
   "metadata": {},
   "source": [
    "<div>\n",
    "    <img src=\"20191121_Guyana_0048_Georgetown_sRGB_(49295795336).jpg\" width=500/>\n",
    "</div>"
   ]
  },
  {
   "cell_type": "markdown",
   "id": "1cdd98e0-0869-46be-84c3-3c20a783ea8b",
   "metadata": {},
   "source": [
    "<div>\n",
    "    <img src=\"1280px-Tractor_in_field_of_rice_by_Khirsah1.jpg\" width=500/>\n",
    "</div>"
   ]
  },
  {
   "cell_type": "markdown",
   "id": "373a7188-65d3-4f0f-825f-9464bfe5ce32",
   "metadata": {},
   "source": [
    "<b>Flag</b>"
   ]
  },
  {
   "cell_type": "code",
   "execution_count": 7,
   "id": "d3d4f558-adc5-44cc-ae94-86411178cc33",
   "metadata": {},
   "outputs": [
    {
     "data": {
      "text/html": [
       "\n",
       "<svg width=\"300\" height=\"200\" xmlns=\"http://www.w3.org/2000/svg\">\n",
       "\n",
       "  <rect width=\"300\" height=\"200\" fill=\"#009739\" />\n",
       "\n",
       "  <polygon points=\"0,0 300,100 0,200\" fill=\"#FFD100\" />\n",
       "\n",
       "  <polygon points=\"0,0 280,100 0,200\" fill=\"white\" />\n",
       "\n",
       "  <polygon points=\"0,0 250,100 0,200\" fill=\"#EF3340\" />\n",
       "\n",
       "  <polygon points=\"0,0 240,100 0,200\" fill=\"black\" />\n",
       "</svg>\n"
      ],
      "text/plain": [
       "<IPython.core.display.HTML object>"
      ]
     },
     "metadata": {},
     "output_type": "display_data"
    }
   ],
   "source": [
    "from IPython.display import display, HTML\n",
    "\n",
    "svg_code = '''\n",
    "<svg width=\"300\" height=\"200\" xmlns=\"http://www.w3.org/2000/svg\">\n",
    "\n",
    "  <rect width=\"300\" height=\"200\" fill=\"#009739\" />\n",
    "\n",
    "  <polygon points=\"0,0 300,100 0,200\" fill=\"#FFD100\" />\n",
    "\n",
    "  <polygon points=\"0,0 280,100 0,200\" fill=\"white\" />\n",
    "\n",
    "  <polygon points=\"0,0 250,100 0,200\" fill=\"#EF3340\" />\n",
    "\n",
    "  <polygon points=\"0,0 240,100 0,200\" fill=\"black\" />\n",
    "</svg>\n",
    "'''\n",
    "\n",
    "display(HTML(svg_code))\n",
    "\r\n"
   ]
  },
  {
   "cell_type": "markdown",
   "id": "94db9390-8a22-420e-8dfe-f91ebe1dfcd7",
   "metadata": {},
   "source": [
    "<div style=\"text-align: right\"><i>More information you can read in <a href=\"https://en.wikipedia.org/wiki/Guyana\">Guyana</a></i> article</div>"
   ]
  },
  {
   "cell_type": "markdown",
   "id": "76d2bde6-1d1d-4882-8ddf-7576a8d2aa97",
   "metadata": {},
   "source": [
    "<h3><b><u>Assignment 5</u></b></h3>"
   ]
  },
  {
   "cell_type": "markdown",
   "id": "7aadc741-016c-4692-b1e1-d05d09139033",
   "metadata": {},
   "source": [
    "<b>Task:</b> Enter a list of integers. Find a number, or tuple, that will be\r\n",
    "exactly in the middle of the list when it is sorted. The list\r\n",
    "should be entered as a string separated by spaces.\r"
   ]
  },
  {
   "cell_type": "markdown",
   "id": "bd78cbdb-2154-4111-99c5-f53721d71bad",
   "metadata": {},
   "source": [
    "Function for checking input:"
   ]
  },
  {
   "cell_type": "code",
   "execution_count": 9,
   "id": "6a52d282-e077-48de-bdce-87a74809de24",
   "metadata": {},
   "outputs": [],
   "source": [
    "def checkInput(numbers):\n",
    "    for num in numbers:\n",
    "        if isinstance(num, str):\n",
    "            print('Wrong input! Should be only numeric types only.')\n",
    "            return False\n",
    "    return True"
   ]
  },
  {
   "cell_type": "code",
   "execution_count": 10,
   "id": "d3cdd5e3-0680-415d-b97b-218e698275d0",
   "metadata": {},
   "outputs": [
    {
     "data": {
      "text/plain": [
       "True"
      ]
     },
     "execution_count": 10,
     "metadata": {},
     "output_type": "execute_result"
    }
   ],
   "source": [
    "checkInput([4, 7, 6])"
   ]
  },
  {
   "cell_type": "code",
   "execution_count": 11,
   "id": "719aeb04-aba9-46de-b783-577b7d4cb0c6",
   "metadata": {},
   "outputs": [
    {
     "name": "stdout",
     "output_type": "stream",
     "text": [
      "Wrong input! Should be only numeric types only.\n"
     ]
    },
    {
     "data": {
      "text/plain": [
       "False"
      ]
     },
     "execution_count": 11,
     "metadata": {},
     "output_type": "execute_result"
    }
   ],
   "source": [
    "checkInput([1, 'd', 23, 5])"
   ]
  },
  {
   "cell_type": "markdown",
   "id": "4bad0c92-4d1e-4b63-8a0b-7e7e41bd6c13",
   "metadata": {},
   "source": [
    "Function for finding middle number(s):"
   ]
  },
  {
   "cell_type": "code",
   "execution_count": 70,
   "id": "c19350eb-58b5-4b54-b82d-75403fce2b4a",
   "metadata": {},
   "outputs": [],
   "source": [
    "def centerOfList(numbers):\n",
    "    if checkInput(numbers):\n",
    "        numbers.sort()\n",
    "        if len(numbers) % 2 == 0:\n",
    "            print([numbers[len(numbers) // 2 - 1], numbers[len(numbers) // 2]], 'is a middle of the sorted list')\n",
    "        else:\n",
    "            print(numbers[len(numbers) // 2], 'is a middle of the sorted list')"
   ]
  },
  {
   "cell_type": "code",
   "execution_count": 71,
   "id": "f85ed891-233f-490b-9f01-d46e0a20dfeb",
   "metadata": {},
   "outputs": [
    {
     "name": "stdout",
     "output_type": "stream",
     "text": [
      "4 is a middle of the sorted list\n"
     ]
    }
   ],
   "source": [
    "centerOfList([2, 4, 5, 1, 7])"
   ]
  },
  {
   "cell_type": "code",
   "execution_count": 72,
   "id": "c8a942c3-741c-4377-8838-02d17cfaea11",
   "metadata": {},
   "outputs": [
    {
     "name": "stdout",
     "output_type": "stream",
     "text": [
      "Wrong input! Should be only numeric types only.\n"
     ]
    }
   ],
   "source": [
    "centerOfList([3, 'j', 2])"
   ]
  },
  {
   "cell_type": "code",
   "execution_count": 73,
   "id": "f4040363-454c-480c-9e72-8327afc22b9a",
   "metadata": {},
   "outputs": [
    {
     "name": "stdout",
     "output_type": "stream",
     "text": [
      "[3, 4] is a middle of the sorted list\n"
     ]
    }
   ],
   "source": [
    "centerOfList([7, 3, 1, 7, 4, 2, 8, 2])"
   ]
  },
  {
   "cell_type": "markdown",
   "id": "f2e0bf38-5fd3-4904-b579-1f2117c3a2bc",
   "metadata": {},
   "source": [
    "<h4><b>Conclusion: </b> durnig this laboratory work i got to know how to work with Jupiter Notebook, specially how to change start-up folder, create and update .ipynb files, use markdown and code cells and etc.</h4>"
   ]
  }
 ],
 "metadata": {
  "kernelspec": {
   "display_name": "Python 3 (ipykernel)",
   "language": "python",
   "name": "python3"
  },
  "language_info": {
   "codemirror_mode": {
    "name": "ipython",
    "version": 3
   },
   "file_extension": ".py",
   "mimetype": "text/x-python",
   "name": "python",
   "nbconvert_exporter": "python",
   "pygments_lexer": "ipython3",
   "version": "3.12.4"
  }
 },
 "nbformat": 4,
 "nbformat_minor": 5
}
