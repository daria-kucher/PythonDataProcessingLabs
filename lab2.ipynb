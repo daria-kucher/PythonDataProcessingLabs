{
 "cells": [
  {
   "cell_type": "markdown",
   "id": "a205c21d-13cc-4ba8-bdf4-bc2b2c49f7fb",
   "metadata": {},
   "source": [
    "<h1><b>Laboratory work 2</b></h1>"
   ]
  },
  {
   "cell_type": "markdown",
   "id": "dcfecdc5-6d8f-4bb8-b778-872048ed21bf",
   "metadata": {},
   "source": [
    "<h3><b>Topic:</b> Data exploration and visualization with Python</h3>"
   ]
  },
  {
   "cell_type": "markdown",
   "id": "52e899ec-a921-43eb-a0fc-a972b54ef129",
   "metadata": {},
   "source": [
    "<h3><b>Objective: </b> Gain basic skills in using Python for data exploration and visualization.\n",
    "</h3>"
   ]
  },
  {
   "cell_type": "markdown",
   "id": "836c1316-f3ec-4e66-ae1c-c0170bbe7ea2",
   "metadata": {},
   "source": [
    "<h3><center><b>Progress of work</b></center></h3>"
   ]
  },
  {
   "cell_type": "code",
   "execution_count": 2,
   "id": "39f88dd3-fcaf-4b5c-9b79-57ed495cb01d",
   "metadata": {},
   "outputs": [
    {
     "name": "stdout",
     "output_type": "stream",
     "text": [
      "Variant:3\n"
     ]
    }
   ],
   "source": [
    "print('Variant:' +  str(ord(\"D\") % 3 + 1))"
   ]
  },
  {
   "cell_type": "code",
   "execution_count": 4,
   "id": "d7997535-83f6-4336-aeda-f469490cbce2",
   "metadata": {},
   "outputs": [
    {
     "name": "stdout",
     "output_type": "stream",
     "text": [
      "Collecting numpy\n",
      "  Downloading numpy-2.1.1-cp312-cp312-win_amd64.whl.metadata (59 kB)\n",
      "Downloading numpy-2.1.1-cp312-cp312-win_amd64.whl (12.6 MB)\n",
      "   ---------------------------------------- 0.0/12.6 MB ? eta -:--:--\n",
      "   --- ------------------------------------ 1.0/12.6 MB 8.4 MB/s eta 0:00:02\n",
      "   ------- -------------------------------- 2.4/12.6 MB 10.3 MB/s eta 0:00:01\n",
      "   --------------- ------------------------ 4.7/12.6 MB 8.6 MB/s eta 0:00:01\n",
      "   ------------------- -------------------- 6.0/12.6 MB 9.0 MB/s eta 0:00:01\n",
      "   ----------------------------- ---------- 9.2/12.6 MB 9.5 MB/s eta 0:00:01\n",
      "   ---------------------------------- ----- 10.7/12.6 MB 9.3 MB/s eta 0:00:01\n",
      "   ---------------------------------------- 12.6/12.6 MB 9.4 MB/s eta 0:00:00\n",
      "Installing collected packages: numpy\n",
      "Successfully installed numpy-2.1.1\n",
      "Note: you may need to restart the kernel to use updated packages.\n"
     ]
    }
   ],
   "source": [
    "pip install numpy"
   ]
  },
  {
   "cell_type": "code",
   "execution_count": 9,
   "id": "7fab3eac-2281-40ad-abf7-68ab104dfcba",
   "metadata": {},
   "outputs": [],
   "source": [
    "import numpy as np"
   ]
  },
  {
   "cell_type": "markdown",
   "id": "24335588-f198-4a70-abda-cd540cdc724c",
   "metadata": {},
   "source": [
    "<h5><b>Assignment 1: </b> Create a function, that takes filename and column name as a parameter and\r\n",
    "return a numpy array of a column values.</54>"
   ]
  },
  {
   "cell_type": "code",
   "execution_count": 10,
   "id": "9864c345-9aeb-4255-8f4b-3197f13f5804",
   "metadata": {},
   "outputs": [],
   "source": [
    "import csv"
   ]
  },
  {
   "cell_type": "code",
   "execution_count": 11,
   "id": "5db12dfb-0529-4b5b-a45d-ded71ad45c57",
   "metadata": {},
   "outputs": [],
   "source": [
    "def get_column_values(filename, column_name):\n",
    "    with open(filename, 'r') as file:\n",
    "        reader = csv.reader(file)\n",
    "        header = next(reader)\n",
    "        col_index = header.index(column_name)\n",
    "        data = np.array([row[col_index] for row in reader], dtype=int)\n",
    "        \n",
    "        return data"
   ]
  },
  {
   "cell_type": "markdown",
   "id": "fabaeb63-829d-4a8b-bd42-dc923e73194a",
   "metadata": {},
   "source": [
    "<h5><b>Assignment 2: </b>Using function from task1, create a numpy array out of values of “APC”\r\n",
    "column.</h5>"
   ]
  },
  {
   "cell_type": "code",
   "execution_count": 12,
   "id": "9b5ddda4-e84b-4eec-bb47-0530bd071261",
   "metadata": {},
   "outputs": [
    {
     "name": "stdout",
     "output_type": "stream",
     "text": [
      "[17063 17043 17003 16955 16938 16925 16906 16897 16878 16878 16869 16848\n",
      " 16821 16786 16760 16736 16722 16699 16681 16667 16648 16631 16620 16599\n",
      " 16567 16542 16521 16495 16480 16473 16461 16426 16402 16385 16368 16363\n",
      " 16350 16341 16332 16323 16294 16286 16255 16238 16211 16203 16161 16141\n",
      " 16103 16095 16074 16050 16039 16013 16000 15980 15963 15917 15902 15883\n",
      " 15871 15862 15826 15811 15779 15755 15732 15715 15704 15685 15645 15629\n",
      " 15611 15600 15583 15566 15550 15524 15505 15480 15459 15450 15431 15413\n",
      " 15398 15383 15372 15337 15319 15307 15287 15269 15263 15234 15208 15187\n",
      " 15176 15144 15131 15105 15096 15076 15036 15020 15002 14980 14947 14935\n",
      " 14913 14891 14858 14818 14803 14786 14775 14748 14721 14699 14665 14630\n",
      " 14595 14552 14538 14508 14460 14417 14375 14353 14313 14281 14246 14227\n",
      " 14213 14179 14156 14129 14096 14067 14046 14007 13991 13971 13957 13942\n",
      " 13928 13916 13904 13896 13873 13852 13835 13827 13809 13796 13765 13745\n",
      " 13698 13679 13667 13620 13575 13551 13497 13459 13386 13368 13350 13321\n",
      " 13304 13284 13264 13237 13216 13207 13183 13158 13130 13111 13074 13058\n",
      " 13049 13014 12997 12973 12949 12938 12921 12901 12874 12850 12823 12798\n",
      " 12779 12728 12688 12660 12639 12611 12582 12552 12508 12494 12478 12441\n",
      " 12425 12410 12373 12338 12268 12232 12198 12145 12129 12090 12043 12004\n",
      " 11977 11956 11942 11921 11899 11879 11857 11822 11818 11805 11792 11773\n",
      " 11757 11725 11696 11671 11652 11637 11621 11579 11548 11489 11466 11455\n",
      " 11445 11410 11372 11358 11322 11302 11269 11254 11238 11216 11203 11194\n",
      " 11180 11158 11142 11128 11107 11100 11087 11070 11053 11033 11015 10973\n",
      " 10956 10919 10888 10871 10843 10825 10794 10771 10752 10692 10667 10654\n",
      " 10616 10594 10579 10560 10529 10519 10508 10482 10456 10416 10401 10396\n",
      " 10385 10372 10340 10312 10285 10282 10279 10263 10256 10224 10188 10174\n",
      " 10168 10166 10141 10132 10121 10104 10086 10079 10073 10041 10017 10014\n",
      "  9996  9974  9958  9953  9939  9901  9877  9834  9804  9775  9758  9749\n",
      "  9726  9715  9697  9669  9653  9631  9612  9557  9437  9420  9405  9385\n",
      "  9362  9337  9313  9264  9220  9129  9126  9123  9102  9082  9052  9026\n",
      "  9008  9000  8991  8984  8972  8962  8950  8946  8927  8914  8912  8891\n",
      "  8883  8868  8851  8834  8828  8824  8814  8810  8792  8778  8767  8755\n",
      "  8739  8726  8703  8682  8670  8663  8649  8637  8613  8604  8596  8579\n",
      "  8562  8554  8539  8521  8511  8488  8476  8449  8435  8424  8410  8398\n",
      "  8380  8370  8354  8335  8324  8318  8303  8290  8278  8270  8262  8251\n",
      "  8249  8234  8213  8205  8188  8178  8167  8161  8147  8136  8131  8118\n",
      "  8105  8096  8080  8065  8059  8051  8034  8026  8019  8008  7999  7990\n",
      "  7983  7966  7964  7953  7944  7932  7917  7908  7899  7888  7868  7863\n",
      "  7857  7847  7834  7820  7806  7804  7798  7783  7771  7750  7735  7729\n",
      "  7706  7683  7667  7653  7642  7636  7631  7607  7600  7576  7560  7543\n",
      "  7523  7512  7502  7490  7478  7472  7469  7467  7456  7442  7435  7432\n",
      "  7424  7419  7407  7398  7382  7377  7373  7365  7348  7336  7325  7307\n",
      "  7295  7287  7275  7257  7253  7248  7238  7224  7216  7199  7193  7192\n",
      "  7189  7184  7181  7178  7162  7151  7139  7131  7130  7126  7120  7110\n",
      "  7098  7087  7083  7073  7069  7053  7043  7038  7028  7024  7020  7016\n",
      "  7013  7005  6999  6993  6986  6981  6977  6974  6966  6966  6953  6947\n",
      "  6932  6921  6898  6887  6879  6869  6853  6830  6823  6810  6799  6789\n",
      "  6774  6769  6762  6742  6736  6723  6714  6703  6692  6683  6673  6658\n",
      "  6638  6630  6621  6615  6609  6600  6593  6569  6562  6553  6545  6533\n",
      "  6520  6517  6507  6500  6492  6488  6474  6471  6468  6458  6443  6415\n",
      "  6405  6394  6388  6382  6382  6378  6369  6366  6344  6340  6334  6307\n",
      "  6284  6276  6268  6256  6241  6235  6215  6215  6204  6183  6173  6167\n",
      "  6159  6159  6154  6147  6130  6125  6124  6108  6106  6100  6093  6084\n",
      "  6075  6059  6047  6037  6024  6017  6010  5994  5986  5981  5979  5974\n",
      "  5969  5963  5958  5952  5946  5937  5930  5928  5920  5917  5912  5911\n",
      "  5909  5905  5900  5892  5886  5883  5877  5872  5866  5861  5856  5848\n",
      "  5844  5837  5832  5827  5822  5817  5815  5808  5804  5797  5773  5748\n",
      "  5742  5730  5696  5682  5666  5654  5630  5611  5601  5580  5552  5525\n",
      "  5501  5485  5453  5401  5378  5364  5351  5321  5295  5284  5266  5258\n",
      "  5255  5235  5219  5205  5193  5179  5172  5167  5181  5162  5149  5133\n",
      "  5111  5093  5064  5038  5018  4991  4975  4949  4932  4909  4889  4881\n",
      "  4857  4832  4807  4796  4776  4748  4724  4720  4718  4701  4690  4682\n",
      "  4665  4662  4640  4617  4584  4575  4557  4520  4484  4459  4430  4403\n",
      "  4366  4345  4312  4294  4269  4257  4254  4251  4245  4243  4238  4230\n",
      "  4224  4212  4195  4179  4162  4152  4141  4126  4115  4108  4100  4086\n",
      "  4076  4070  4055  4051  4032  4026  4022  4014  4011  4004  3995  3987\n",
      "  3979  3971  3959  3950  3942  3929  3920  3912  3905  3892  3886  3879\n",
      "  3874  3866  3832  3832  3829  3828  3823  3815  3811  3797  3789  3772\n",
      "  3744  3744  3737  3736  3726  3720  3704  3687  3659  3645  3637  3632\n",
      "  3614  3606  3588  3577  3573  3563  3545  3528  3503  3492  3484  3466\n",
      "  3450  3438  3429  3416  3400  3392  3379  3366  3354  3343  3302  3282\n",
      "  3270  3258  3246  3235  3213  3194  3166  3141  3116  3090  3063  3043\n",
      "  3009  2974  2958  2934  2900  2873  2856  2808  2764  2741  2713  2686\n",
      "  2651  2610  2567  2519  2471  2445  2418  2389  2342  2308  2258  2238\n",
      "  2205  2162  2118  2087  2063  2041  2002  1982  1976  1968  1964  1946\n",
      "  1923  1911  1895  1891  1891  1861  1858  1844  1830  1776  1751  1735\n",
      "  1723  1710  1694  1664  1640  1625  1597  1578  1556  1535  1487  1470\n",
      "  1448  1435  1375  1279  1249  1226  1205  1165  1105  1070  1036   999\n",
      "   985   945   939   900   862   846   816   706   706   516]\n"
     ]
    }
   ],
   "source": [
    "apc_values = get_column_values('russia_losses_equipment.csv', 'APC')\n",
    "\n",
    "print(apc_values)"
   ]
  },
  {
   "cell_type": "markdown",
   "id": "9a8ddaf0-b663-4894-8637-3d88623e16e8",
   "metadata": {},
   "source": [
    "<h5><b>Assignment 3:</b> Find daily APC losses.</h5>"
   ]
  },
  {
   "cell_type": "code",
   "execution_count": 13,
   "id": "ccb6b172-597d-4fbb-a606-0ce8f90a6785",
   "metadata": {},
   "outputs": [],
   "source": [
    "def find_daily_losses(filename, column_name=\"APC\"):\n",
    "    apc_values = get_column_values(filename, column_name) \n",
    "    daily_losses = np.diff(apc_values)\n",
    "    \n",
    "    return daily_losses"
   ]
  },
  {
   "cell_type": "code",
   "execution_count": 14,
   "id": "3a0e53be-1a31-4f41-920f-ea3c6627d2c7",
   "metadata": {},
   "outputs": [
    {
     "name": "stdout",
     "output_type": "stream",
     "text": [
      "[ -20  -40  -48  -17  -13  -19   -9  -19    0   -9  -21  -27  -35  -26\n",
      "  -24  -14  -23  -18  -14  -19  -17  -11  -21  -32  -25  -21  -26  -15\n",
      "   -7  -12  -35  -24  -17  -17   -5  -13   -9   -9   -9  -29   -8  -31\n",
      "  -17  -27   -8  -42  -20  -38   -8  -21  -24  -11  -26  -13  -20  -17\n",
      "  -46  -15  -19  -12   -9  -36  -15  -32  -24  -23  -17  -11  -19  -40\n",
      "  -16  -18  -11  -17  -17  -16  -26  -19  -25  -21   -9  -19  -18  -15\n",
      "  -15  -11  -35  -18  -12  -20  -18   -6  -29  -26  -21  -11  -32  -13\n",
      "  -26   -9  -20  -40  -16  -18  -22  -33  -12  -22  -22  -33  -40  -15\n",
      "  -17  -11  -27  -27  -22  -34  -35  -35  -43  -14  -30  -48  -43  -42\n",
      "  -22  -40  -32  -35  -19  -14  -34  -23  -27  -33  -29  -21  -39  -16\n",
      "  -20  -14  -15  -14  -12  -12   -8  -23  -21  -17   -8  -18  -13  -31\n",
      "  -20  -47  -19  -12  -47  -45  -24  -54  -38  -73  -18  -18  -29  -17\n",
      "  -20  -20  -27  -21   -9  -24  -25  -28  -19  -37  -16   -9  -35  -17\n",
      "  -24  -24  -11  -17  -20  -27  -24  -27  -25  -19  -51  -40  -28  -21\n",
      "  -28  -29  -30  -44  -14  -16  -37  -16  -15  -37  -35  -70  -36  -34\n",
      "  -53  -16  -39  -47  -39  -27  -21  -14  -21  -22  -20  -22  -35   -4\n",
      "  -13  -13  -19  -16  -32  -29  -25  -19  -15  -16  -42  -31  -59  -23\n",
      "  -11  -10  -35  -38  -14  -36  -20  -33  -15  -16  -22  -13   -9  -14\n",
      "  -22  -16  -14  -21   -7  -13  -17  -17  -20  -18  -42  -17  -37  -31\n",
      "  -17  -28  -18  -31  -23  -19  -60  -25  -13  -38  -22  -15  -19  -31\n",
      "  -10  -11  -26  -26  -40  -15   -5  -11  -13  -32  -28  -27   -3   -3\n",
      "  -16   -7  -32  -36  -14   -6   -2  -25   -9  -11  -17  -18   -7   -6\n",
      "  -32  -24   -3  -18  -22  -16   -5  -14  -38  -24  -43  -30  -29  -17\n",
      "   -9  -23  -11  -18  -28  -16  -22  -19  -55 -120  -17  -15  -20  -23\n",
      "  -25  -24  -49  -44  -91   -3   -3  -21  -20  -30  -26  -18   -8   -9\n",
      "   -7  -12  -10  -12   -4  -19  -13   -2  -21   -8  -15  -17  -17   -6\n",
      "   -4  -10   -4  -18  -14  -11  -12  -16  -13  -23  -21  -12   -7  -14\n",
      "  -12  -24   -9   -8  -17  -17   -8  -15  -18  -10  -23  -12  -27  -14\n",
      "  -11  -14  -12  -18  -10  -16  -19  -11   -6  -15  -13  -12   -8   -8\n",
      "  -11   -2  -15  -21   -8  -17  -10  -11   -6  -14  -11   -5  -13  -13\n",
      "   -9  -16  -15   -6   -8  -17   -8   -7  -11   -9   -9   -7  -17   -2\n",
      "  -11   -9  -12  -15   -9   -9  -11  -20   -5   -6  -10  -13  -14  -14\n",
      "   -2   -6  -15  -12  -21  -15   -6  -23  -23  -16  -14  -11   -6   -5\n",
      "  -24   -7  -24  -16  -17  -20  -11  -10  -12  -12   -6   -3   -2  -11\n",
      "  -14   -7   -3   -8   -5  -12   -9  -16   -5   -4   -8  -17  -12  -11\n",
      "  -18  -12   -8  -12  -18   -4   -5  -10  -14   -8  -17   -6   -1   -3\n",
      "   -5   -3   -3  -16  -11  -12   -8   -1   -4   -6  -10  -12  -11   -4\n",
      "  -10   -4  -16  -10   -5  -10   -4   -4   -4   -3   -8   -6   -6   -7\n",
      "   -5   -4   -3   -8    0  -13   -6  -15  -11  -23  -11   -8  -10  -16\n",
      "  -23   -7  -13  -11  -10  -15   -5   -7  -20   -6  -13   -9  -11  -11\n",
      "   -9  -10  -15  -20   -8   -9   -6   -6   -9   -7  -24   -7   -9   -8\n",
      "  -12  -13   -3  -10   -7   -8   -4  -14   -3   -3  -10  -15  -28  -10\n",
      "  -11   -6   -6    0   -4   -9   -3  -22   -4   -6  -27  -23   -8   -8\n",
      "  -12  -15   -6  -20    0  -11  -21  -10   -6   -8    0   -5   -7  -17\n",
      "   -5   -1  -16   -2   -6   -7   -9   -9  -16  -12  -10  -13   -7   -7\n",
      "  -16   -8   -5   -2   -5   -5   -6   -5   -6   -6   -9   -7   -2   -8\n",
      "   -3   -5   -1   -2   -4   -5   -8   -6   -3   -6   -5   -6   -5   -5\n",
      "   -8   -4   -7   -5   -5   -5   -5   -2   -7   -4   -7  -24  -25   -6\n",
      "  -12  -34  -14  -16  -12  -24  -19  -10  -21  -28  -27  -24  -16  -32\n",
      "  -52  -23  -14  -13  -30  -26  -11  -18   -8   -3  -20  -16  -14  -12\n",
      "  -14   -7   -5   14  -19  -13  -16  -22  -18  -29  -26  -20  -27  -16\n",
      "  -26  -17  -23  -20   -8  -24  -25  -25  -11  -20  -28  -24   -4   -2\n",
      "  -17  -11   -8  -17   -3  -22  -23  -33   -9  -18  -37  -36  -25  -29\n",
      "  -27  -37  -21  -33  -18  -25  -12   -3   -3   -6   -2   -5   -8   -6\n",
      "  -12  -17  -16  -17  -10  -11  -15  -11   -7   -8  -14  -10   -6  -15\n",
      "   -4  -19   -6   -4   -8   -3   -7   -9   -8   -8   -8  -12   -9   -8\n",
      "  -13   -9   -8   -7  -13   -6   -7   -5   -8  -34    0   -3   -1   -5\n",
      "   -8   -4  -14   -8  -17  -28    0   -7   -1  -10   -6  -16  -17  -28\n",
      "  -14   -8   -5  -18   -8  -18  -11   -4  -10  -18  -17  -25  -11   -8\n",
      "  -18  -16  -12   -9  -13  -16   -8  -13  -13  -12  -11  -41  -20  -12\n",
      "  -12  -12  -11  -22  -19  -28  -25  -25  -26  -27  -20  -34  -35  -16\n",
      "  -24  -34  -27  -17  -48  -44  -23  -28  -27  -35  -41  -43  -48  -48\n",
      "  -26  -27  -29  -47  -34  -50  -20  -33  -43  -44  -31  -24  -22  -39\n",
      "  -20   -6   -8   -4  -18  -23  -12  -16   -4    0  -30   -3  -14  -14\n",
      "  -54  -25  -16  -12  -13  -16  -30  -24  -15  -28  -19  -22  -21  -48\n",
      "  -17  -22  -13  -60  -96  -30  -23  -21  -40  -60  -35  -34  -37  -14\n",
      "  -40   -6  -39  -38  -16  -30 -110    0 -190]\n"
     ]
    }
   ],
   "source": [
    "print(find_daily_losses('russia_losses_equipment.csv'))"
   ]
  },
  {
   "cell_type": "markdown",
   "id": "d68a590e-a8be-4334-93c2-d2945f8b7174",
   "metadata": {},
   "source": [
    "<h5><b>Assignment 4:</b> Find the 5 greatest daily losses of APC.</h5>"
   ]
  },
  {
   "cell_type": "code",
   "execution_count": 15,
   "id": "61b64615-6b18-4b39-8727-e3a7fbede91d",
   "metadata": {},
   "outputs": [],
   "source": [
    "def find_top_5_losses(filename, column_name=\"APC\"):\n",
    "     daily_losses = find_daily_losses(filename, column_name)\n",
    "     top_5_losses = np.sort(daily_losses)[:5]\n",
    "    \n",
    "     return top_5_losses[::1]"
   ]
  },
  {
   "cell_type": "code",
   "execution_count": 16,
   "id": "99c0649c-e981-441d-8cb5-4888d15ac54b",
   "metadata": {},
   "outputs": [
    {
     "name": "stdout",
     "output_type": "stream",
     "text": [
      "[-190 -120 -110  -96  -91]\n"
     ]
    }
   ],
   "source": [
    "print(find_top_5_losses('russia_losses_equipment.csv'))"
   ]
  },
  {
   "cell_type": "markdown",
   "id": "7415f732-7713-4f30-b46e-836fb85db395",
   "metadata": {},
   "source": [
    "<h5><b>Assignment 5:</b> Determine how many APC were destroyed in the summer of 2024.</h5>"
   ]
  },
  {
   "cell_type": "code",
   "execution_count": 17,
   "id": "7142f71e-50e9-4654-987f-6f631c42e068",
   "metadata": {},
   "outputs": [],
   "source": [
    "from datetime import datetime"
   ]
  },
  {
   "cell_type": "code",
   "execution_count": 28,
   "id": "85ee541f-cab8-47b5-901a-0bc4572b3c7d",
   "metadata": {},
   "outputs": [],
   "source": [
    "def get_dates(filename):\n",
    "    with open(filename, 'r') as file:\n",
    "        reader = csv.reader(file)\n",
    "        header = next(reader)\n",
    "        \n",
    "        try:\n",
    "            date_col_index = header.index(\"date\")\n",
    "        except ValueError:\n",
    "            raise ValueError(f\"Column 'date' not found.\")\n",
    "        \n",
    "        dates = []\n",
    "        for row in reader:\n",
    "            try:\n",
    "                date = datetime.strptime(row[date_col_index], \"%Y-%m-%d\")\n",
    "                dates.append(date)\n",
    "            except ValueError:\n",
    "                continue\n",
    "        \n",
    "        return np.array(dates)"
   ]
  },
  {
   "cell_type": "code",
   "execution_count": 29,
   "id": "4229bfff-ad95-468f-a861-c86d0e572be7",
   "metadata": {},
   "outputs": [],
   "source": [
    "def apc_losses_in_summer(filename, column_name=\"APC\"):\n",
    "    daily_losses = get_column_values(filename, column_name)\n",
    "    \n",
    "    dates = get_dates(filename)\n",
    "    \n",
    "    summer_mask = (dates >= datetime(2024, 6, 1)) & (dates <= datetime(2024, 8, 31))\n",
    "    summer_losses = daily_losses[summer_mask]\n",
    "    \n",
    "    total_summer_losses = np.sum(summer_losses)\n",
    "    \n",
    "    return total_summer_losses"
   ]
  },
  {
   "cell_type": "code",
   "execution_count": 30,
   "id": "c33f231a-6199-4603-9fc2-feec9533a1d1",
   "metadata": {},
   "outputs": [
    {
     "name": "stdout",
     "output_type": "stream",
     "text": [
      "1459103\n"
     ]
    }
   ],
   "source": [
    "print(apc_losses_in_summer('russia_losses_equipment.csv'))"
   ]
  },
  {
   "cell_type": "markdown",
   "id": "d948dcb8-f31a-464f-a20b-573ab07e024d",
   "metadata": {},
   "source": [
    "<h5><b>Assignment 6:</b> Find the mean value of destroyed APC between 100 and 500 days of war.</h5>"
   ]
  },
  {
   "cell_type": "code",
   "execution_count": 31,
   "id": "19b2d03e-de38-4306-9bfd-00b6b556abaa",
   "metadata": {},
   "outputs": [],
   "source": [
    "def find_mean_losses(filename, start_day=100, end_day=500, column_name=\"APC\"):\n",
    "    daily_losses = get_column_values(filename, column_name)\n",
    "    \n",
    "    if len(daily_losses) < end_day:\n",
    "        raise ValueError(f\"Дані закінчуються раніше, ніж {end_day}-ий день.\")\n",
    "    \n",
    "    selected_losses = daily_losses[start_day-1:end_day]\n",
    "    \n",
    "    mean_losses = np.mean(selected_losses)\n",
    "    \n",
    "    return int(mean_losses)"
   ]
  },
  {
   "cell_type": "code",
   "execution_count": 32,
   "id": "18149bd3-2951-42be-a8a0-69ee98b8afbd",
   "metadata": {},
   "outputs": [
    {
     "name": "stdout",
     "output_type": "stream",
     "text": [
      "10516\n"
     ]
    }
   ],
   "source": [
    "print(find_mean_losses('russia_losses_equipment.csv'))"
   ]
  },
  {
   "cell_type": "markdown",
   "id": "b383f2a6-72d3-4347-9195-3697d422182e",
   "metadata": {},
   "source": [
    "<h5><b>Assignment 7:</b> Create a plot of APC losses of last 200 days (starting from last date in\r\n",
    "dataset)\r",
    "</h5>"
   ]
  },
  {
   "cell_type": "code",
   "execution_count": 23,
   "id": "148ca469-9172-48b7-9079-0b55c5108190",
   "metadata": {},
   "outputs": [
    {
     "name": "stdout",
     "output_type": "stream",
     "text": [
      "Requirement already satisfied: matplotlib in d:\\uni\\3year\\py\\envs\\first\\lib\\site-packages (3.9.2)\n",
      "Requirement already satisfied: contourpy>=1.0.1 in d:\\uni\\3year\\py\\envs\\first\\lib\\site-packages (from matplotlib) (1.3.0)\n",
      "Requirement already satisfied: cycler>=0.10 in d:\\uni\\3year\\py\\envs\\first\\lib\\site-packages (from matplotlib) (0.12.1)\n",
      "Requirement already satisfied: fonttools>=4.22.0 in d:\\uni\\3year\\py\\envs\\first\\lib\\site-packages (from matplotlib) (4.54.1)\n",
      "Requirement already satisfied: kiwisolver>=1.3.1 in d:\\uni\\3year\\py\\envs\\first\\lib\\site-packages (from matplotlib) (1.4.7)\n",
      "Requirement already satisfied: numpy>=1.23 in d:\\uni\\3year\\py\\envs\\first\\lib\\site-packages (from matplotlib) (2.1.1)\n",
      "Requirement already satisfied: packaging>=20.0 in d:\\uni\\3year\\py\\envs\\first\\lib\\site-packages (from matplotlib) (24.1)\n",
      "Requirement already satisfied: pillow>=8 in d:\\uni\\3year\\py\\envs\\first\\lib\\site-packages (from matplotlib) (10.4.0)\n",
      "Requirement already satisfied: pyparsing>=2.3.1 in d:\\uni\\3year\\py\\envs\\first\\lib\\site-packages (from matplotlib) (3.1.4)\n",
      "Requirement already satisfied: python-dateutil>=2.7 in d:\\uni\\3year\\py\\envs\\first\\lib\\site-packages (from matplotlib) (2.9.0.post0)\n",
      "Requirement already satisfied: six>=1.5 in d:\\uni\\3year\\py\\envs\\first\\lib\\site-packages (from python-dateutil>=2.7->matplotlib) (1.16.0)\n"
     ]
    }
   ],
   "source": [
    "!pip install matplotlib"
   ]
  },
  {
   "cell_type": "code",
   "execution_count": 24,
   "id": "4061aefb-7240-431a-9e71-2ed23e7bfd7f",
   "metadata": {},
   "outputs": [],
   "source": [
    "import matplotlib.pyplot as plt"
   ]
  },
  {
   "cell_type": "code",
   "execution_count": 33,
   "id": "fdecce57-38e7-4d8a-b1a1-79455f8a5b2f",
   "metadata": {},
   "outputs": [],
   "source": [
    "def plot_last_200_apc_losses(filename, column_name=\"APC\"):\n",
    "    daily_losses = get_column_values(filename, column_name)\n",
    "    \n",
    "    dates = get_dates(filename)\n",
    "    \n",
    "    if len(daily_losses) < 200:\n",
    "        raise ValueError(\"Дані мають бути довші за 200 днів.\")\n",
    "    \n",
    "    last_200_losses = daily_losses[-200:]\n",
    "    last_200_dates = dates[-200:]\n",
    "    \n",
    "    plt.figure(figsize=(8, 16), dpi=100)\n",
    "    \n",
    "    plt.plot(last_200_dates, last_200_losses, linestyle='--', color='b', label=\"APC losses\")\n",
    "    \n",
    "    plt.title(\"APC Losses Over Last 200 Days\", fontsize=16)\n",
    "    plt.xlabel(\"Date\", fontsize=12)\n",
    "    plt.ylabel(\"Number of APC Destroyed\", fontsize=12)\n",
    "    \n",
    "    plt.grid(True, which='both', linestyle=':', color='gray')\n",
    "    \n",
    "    plt.legend(loc=\"upper right\")\n",
    "    \n",
    "    plt.xticks(rotation=45, fontsize=10)\n",
    "    plt.yticks(fontsize=10)\n",
    "    \n",
    "    plt.savefig('apc_losses_last_200_days.png', format='png')\n",
    "    \n",
    "    plt.show()"
   ]
  },
  {
   "cell_type": "code",
   "execution_count": 34,
   "id": "8574c614-835e-46c4-8d3d-9031552047f6",
   "metadata": {},
   "outputs": [
    {
     "data": {
      "image/png": "[encoded data removed]",
      "text/plain": [
       "<Figure size 800x1600 with 1 Axes>"
      ]
     },
     "metadata": {},
     "output_type": "display_data"
    }
   ],
   "source": [
    "plot_last_200_apc_losses('russia_losses_equipment.csv')"
   ]
  },
  {
   "cell_type": "markdown",
   "id": "4a253dd7-d519-47ee-acf0-91680d27d41c",
   "metadata": {},
   "source": [
    "<h4><b>Conclusion: </b> durnig this laboratory work i got to know how to work with numpy arrays, how to explore data from .csv files and how to create plots for specified data with set requirements for visualization.</h4>"
   ]
  }
 ],
 "metadata": {
  "kernelspec": {
   "display_name": "Python 3 (ipykernel)",
   "language": "python",
   "name": "python3"
  },
  "language_info": {
   "codemirror_mode": {
    "name": "ipython",
    "version": 3
   },
   "file_extension": ".py",
   "mimetype": "text/x-python",
   "name": "python",
   "nbconvert_exporter": "python",
   "pygments_lexer": "ipython3",
   "version": "3.12.4"
  }
 },
 "nbformat": 4,
 "nbformat_minor": 5
}
